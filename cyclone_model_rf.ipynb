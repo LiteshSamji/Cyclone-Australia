{
 "cells": [
  {
   "cell_type": "code",
   "execution_count": 2,
   "metadata": {},
   "outputs": [],
   "source": [
    "from sklearn import datasets\n",
    "from sklearn.model_selection import train_test_split\n",
    "from sklearn.preprocessing import StandardScaler\n",
    "from sklearn.ensemble import RandomForestClassifier\n",
    "from sklearn.metrics import accuracy_score\n",
    "import joblib\n",
    "import numpy as np\n",
    "import pandas as pd\n",
    "import matplotlib.pyplot as plt"
   ]
  },
  {
   "cell_type": "code",
   "execution_count": 5,
   "metadata": {},
   "outputs": [
    {
     "name": "stdout",
     "output_type": "stream",
     "text": [
      "(1692, 8) (1692,)\n"
     ]
    }
   ],
   "source": [
    "# Read data into DataFrame from CSV file\n",
    "# cyclone_df = pd.read_csv(\"Cyclone_ML.csv\")\n",
    "cyclone_df = pd.read_csv(\"data/Cyclone_ML.csv\")\n",
    "\n",
    "# Select features for machine learning and assign to X\n",
    "selected_features = cyclone_df[[\"SURFACE_CODE\",\t\"CYC_TYPE\", \"LAT\", \"LON\", \"CENTRAL_PRES\", \"MAX_WIND_SPD\", \"CENTRAL_INDEX (CI)\", \"WAVE_HEIGHT\"]]\n",
    "# selected_features = cyclone_df[[\"CYC_TYPE\", \"LAT\", \"LON\", \"CENTRAL_PRES\", \"MAX_WIND_SPD\"]]\n",
    "X = selected_features\n",
    "\n",
    "# Set y to compass direction of cyclone based on wind direction degree\n",
    "y = cyclone_df[\"WIND_COMPASS\"]\n",
    "# y = cyclone_df[\"MAX_REP_WIND_DIR\"]\n",
    " \n",
    "\n",
    "print(X.shape, y.shape)\n",
    "    "
   ]
  },
  {
   "cell_type": "code",
   "execution_count": 6,
   "metadata": {},
   "outputs": [
    {
     "data": {
      "text/html": [
       "<div>\n",
       "<style scoped>\n",
       "    .dataframe tbody tr th:only-of-type {\n",
       "        vertical-align: middle;\n",
       "    }\n",
       "\n",
       "    .dataframe tbody tr th {\n",
       "        vertical-align: top;\n",
       "    }\n",
       "\n",
       "    .dataframe thead th {\n",
       "        text-align: right;\n",
       "    }\n",
       "</style>\n",
       "<table border=\"1\" class=\"dataframe\">\n",
       "  <thead>\n",
       "    <tr style=\"text-align: right;\">\n",
       "      <th></th>\n",
       "      <th>SURFACE_CODE</th>\n",
       "      <th>CYC_TYPE</th>\n",
       "      <th>LAT</th>\n",
       "      <th>LON</th>\n",
       "      <th>CENTRAL_PRES</th>\n",
       "      <th>MAX_WIND_SPD</th>\n",
       "      <th>CENTRAL_INDEX (CI)</th>\n",
       "      <th>WAVE_HEIGHT</th>\n",
       "    </tr>\n",
       "  </thead>\n",
       "  <tbody>\n",
       "    <tr>\n",
       "      <th>0</th>\n",
       "      <td>3.0</td>\n",
       "      <td>40.0</td>\n",
       "      <td>-19.00</td>\n",
       "      <td>146.40</td>\n",
       "      <td>952.0</td>\n",
       "      <td>46.3</td>\n",
       "      <td>5.051994</td>\n",
       "      <td>11.079868</td>\n",
       "    </tr>\n",
       "    <tr>\n",
       "      <th>1</th>\n",
       "      <td>1.0</td>\n",
       "      <td>20.0</td>\n",
       "      <td>-11.00</td>\n",
       "      <td>92.60</td>\n",
       "      <td>1001.0</td>\n",
       "      <td>12.9</td>\n",
       "      <td>2.064005</td>\n",
       "      <td>3.337484</td>\n",
       "    </tr>\n",
       "    <tr>\n",
       "      <th>2</th>\n",
       "      <td>1.0</td>\n",
       "      <td>20.0</td>\n",
       "      <td>-11.10</td>\n",
       "      <td>93.10</td>\n",
       "      <td>1002.0</td>\n",
       "      <td>12.9</td>\n",
       "      <td>1.950454</td>\n",
       "      <td>3.093691</td>\n",
       "    </tr>\n",
       "    <tr>\n",
       "      <th>3</th>\n",
       "      <td>1.0</td>\n",
       "      <td>20.0</td>\n",
       "      <td>-11.10</td>\n",
       "      <td>94.20</td>\n",
       "      <td>1003.0</td>\n",
       "      <td>12.9</td>\n",
       "      <td>1.829259</td>\n",
       "      <td>2.838769</td>\n",
       "    </tr>\n",
       "    <tr>\n",
       "      <th>4</th>\n",
       "      <td>1.0</td>\n",
       "      <td>20.0</td>\n",
       "      <td>-11.10</td>\n",
       "      <td>94.60</td>\n",
       "      <td>1000.0</td>\n",
       "      <td>12.9</td>\n",
       "      <td>2.171169</td>\n",
       "      <td>3.571799</td>\n",
       "    </tr>\n",
       "    <tr>\n",
       "      <th>...</th>\n",
       "      <td>...</td>\n",
       "      <td>...</td>\n",
       "      <td>...</td>\n",
       "      <td>...</td>\n",
       "      <td>...</td>\n",
       "      <td>...</td>\n",
       "      <td>...</td>\n",
       "      <td>...</td>\n",
       "    </tr>\n",
       "    <tr>\n",
       "      <th>1687</th>\n",
       "      <td>2.0</td>\n",
       "      <td>30.0</td>\n",
       "      <td>-14.30</td>\n",
       "      <td>126.40</td>\n",
       "      <td>986.0</td>\n",
       "      <td>20.6</td>\n",
       "      <td>3.306407</td>\n",
       "      <td>6.276868</td>\n",
       "    </tr>\n",
       "    <tr>\n",
       "      <th>1688</th>\n",
       "      <td>4.0</td>\n",
       "      <td>21.0</td>\n",
       "      <td>-12.73</td>\n",
       "      <td>130.61</td>\n",
       "      <td>999.0</td>\n",
       "      <td>20.6</td>\n",
       "      <td>2.272897</td>\n",
       "      <td>3.797903</td>\n",
       "    </tr>\n",
       "    <tr>\n",
       "      <th>1689</th>\n",
       "      <td>2.0</td>\n",
       "      <td>30.0</td>\n",
       "      <td>-12.54</td>\n",
       "      <td>130.72</td>\n",
       "      <td>993.0</td>\n",
       "      <td>18.0</td>\n",
       "      <td>2.801605</td>\n",
       "      <td>5.026852</td>\n",
       "    </tr>\n",
       "    <tr>\n",
       "      <th>1690</th>\n",
       "      <td>2.0</td>\n",
       "      <td>30.0</td>\n",
       "      <td>-12.41</td>\n",
       "      <td>130.99</td>\n",
       "      <td>995.0</td>\n",
       "      <td>18.0</td>\n",
       "      <td>2.638106</td>\n",
       "      <td>4.637562</td>\n",
       "    </tr>\n",
       "    <tr>\n",
       "      <th>1691</th>\n",
       "      <td>2.0</td>\n",
       "      <td>30.0</td>\n",
       "      <td>-12.54</td>\n",
       "      <td>130.98</td>\n",
       "      <td>994.0</td>\n",
       "      <td>20.6</td>\n",
       "      <td>2.721184</td>\n",
       "      <td>4.834374</td>\n",
       "    </tr>\n",
       "  </tbody>\n",
       "</table>\n",
       "<p>1692 rows × 8 columns</p>\n",
       "</div>"
      ],
      "text/plain": [
       "      SURFACE_CODE  CYC_TYPE    LAT     LON  CENTRAL_PRES  MAX_WIND_SPD  \\\n",
       "0              3.0      40.0 -19.00  146.40         952.0          46.3   \n",
       "1              1.0      20.0 -11.00   92.60        1001.0          12.9   \n",
       "2              1.0      20.0 -11.10   93.10        1002.0          12.9   \n",
       "3              1.0      20.0 -11.10   94.20        1003.0          12.9   \n",
       "4              1.0      20.0 -11.10   94.60        1000.0          12.9   \n",
       "...            ...       ...    ...     ...           ...           ...   \n",
       "1687           2.0      30.0 -14.30  126.40         986.0          20.6   \n",
       "1688           4.0      21.0 -12.73  130.61         999.0          20.6   \n",
       "1689           2.0      30.0 -12.54  130.72         993.0          18.0   \n",
       "1690           2.0      30.0 -12.41  130.99         995.0          18.0   \n",
       "1691           2.0      30.0 -12.54  130.98         994.0          20.6   \n",
       "\n",
       "      CENTRAL_INDEX (CI)  WAVE_HEIGHT  \n",
       "0               5.051994    11.079868  \n",
       "1               2.064005     3.337484  \n",
       "2               1.950454     3.093691  \n",
       "3               1.829259     2.838769  \n",
       "4               2.171169     3.571799  \n",
       "...                  ...          ...  \n",
       "1687            3.306407     6.276868  \n",
       "1688            2.272897     3.797903  \n",
       "1689            2.801605     5.026852  \n",
       "1690            2.638106     4.637562  \n",
       "1691            2.721184     4.834374  \n",
       "\n",
       "[1692 rows x 8 columns]"
      ]
     },
     "execution_count": 6,
     "metadata": {},
     "output_type": "execute_result"
    }
   ],
   "source": [
    "X"
   ]
  },
  {
   "cell_type": "code",
   "execution_count": 7,
   "metadata": {},
   "outputs": [
    {
     "data": {
      "text/plain": [
       "0       SE\n",
       "1        E\n",
       "2        E\n",
       "3        S\n",
       "4       SW\n",
       "        ..\n",
       "1687     W\n",
       "1688     N\n",
       "1689    SW\n",
       "1690    SW\n",
       "1691    SW\n",
       "Name: WIND_COMPASS, Length: 1692, dtype: object"
      ]
     },
     "execution_count": 7,
     "metadata": {},
     "output_type": "execute_result"
    }
   ],
   "source": [
    "y"
   ]
  },
  {
   "cell_type": "code",
   "execution_count": 8,
   "metadata": {},
   "outputs": [],
   "source": [
    "# Use train_test_split to create training and testing data\n",
    "from sklearn.model_selection import train_test_split\n",
    "X_train, X_test, y_train, y_test = train_test_split(X, y, random_state=42)"
   ]
  },
  {
   "cell_type": "code",
   "execution_count": 9,
   "metadata": {},
   "outputs": [],
   "source": [
    "X_scaler = StandardScaler().fit(X_train)\n",
    "X_train_scaled = X_scaler.transform(X_train)\n",
    "X_test_scaled = X_scaler.transform(X_test)"
   ]
  },
  {
   "cell_type": "code",
   "execution_count": 10,
   "metadata": {},
   "outputs": [
    {
     "name": "stdout",
     "output_type": "stream",
     "text": [
      "Training Data Score: 0.9976359338061466\n",
      "Testing Data Score: 0.3475177304964539\n"
     ]
    }
   ],
   "source": [
    "rf = RandomForestClassifier(n_estimators=200)\n",
    "rf = rf.fit(X_train_scaled, y_train)\n",
    "training_score = rf.score(X_train_scaled, y_train)\n",
    "testing_score = rf.score(X_test_scaled, y_test)\n",
    "print(f\"Training Data Score: {training_score}\")\n",
    "print(f\"Testing Data Score: {testing_score}\")"
   ]
  },
  {
   "cell_type": "code",
   "execution_count": 11,
   "metadata": {},
   "outputs": [
    {
     "data": {
      "text/plain": [
       "{'bootstrap': True,\n",
       " 'ccp_alpha': 0.0,\n",
       " 'class_weight': None,\n",
       " 'criterion': 'gini',\n",
       " 'max_depth': None,\n",
       " 'max_features': 'auto',\n",
       " 'max_leaf_nodes': None,\n",
       " 'max_samples': None,\n",
       " 'min_impurity_decrease': 0.0,\n",
       " 'min_impurity_split': None,\n",
       " 'min_samples_leaf': 1,\n",
       " 'min_samples_split': 2,\n",
       " 'min_weight_fraction_leaf': 0.0,\n",
       " 'n_estimators': 200,\n",
       " 'n_jobs': None,\n",
       " 'oob_score': False,\n",
       " 'random_state': None,\n",
       " 'verbose': 0,\n",
       " 'warm_start': False}"
      ]
     },
     "execution_count": 11,
     "metadata": {},
     "output_type": "execute_result"
    }
   ],
   "source": [
    "rf.get_params()"
   ]
  },
  {
   "cell_type": "code",
   "execution_count": 12,
   "metadata": {},
   "outputs": [
    {
     "data": {
      "text/plain": [
       "[(0.28686925889312537, 'LON'),\n",
       " (0.2604157413406477, 'LAT'),\n",
       " (0.10781402491047115, 'MAX_WIND_SPD'),\n",
       " (0.09852947998024211, 'CENTRAL_PRES'),\n",
       " (0.0980374014017895, 'CENTRAL_INDEX (CI)'),\n",
       " (0.09781041852342211, 'WAVE_HEIGHT'),\n",
       " (0.027784592934856224, 'SURFACE_CODE'),\n",
       " (0.022739082015445708, 'CYC_TYPE')]"
      ]
     },
     "execution_count": 12,
     "metadata": {},
     "output_type": "execute_result"
    }
   ],
   "source": [
    "sorted(zip(rf.feature_importances_, selected_features), reverse=True)"
   ]
  },
  {
   "cell_type": "code",
   "execution_count": 13,
   "metadata": {},
   "outputs": [],
   "source": [
    "# Make predictions with the model\n",
    "predictions = rf.predict(X_test_scaled)"
   ]
  },
  {
   "cell_type": "code",
   "execution_count": 14,
   "metadata": {},
   "outputs": [
    {
     "data": {
      "image/png": "[encoded data removed]",
      "text/plain": [
       "<Figure size 432x288 with 2 Axes>"
      ]
     },
     "metadata": {
      "needs_background": "light"
     },
     "output_type": "display_data"
    }
   ],
   "source": [
    "from sklearn.metrics import plot_confusion_matrix\n",
    "plot_confusion_matrix(rf, X_test_scaled, y_test, cmap=\"Blues\")\n",
    "plt.show()"
   ]
  },
  {
   "cell_type": "code",
   "execution_count": 15,
   "metadata": {},
   "outputs": [
    {
     "data": {
      "image/png": "[encoded data removed]",
      "text/plain": [
       "<Figure size 432x288 with 2 Axes>"
      ]
     },
     "metadata": {
      "needs_background": "light"
     },
     "output_type": "display_data"
    }
   ],
   "source": [
    "plot_confusion_matrix(rf, X_train_scaled, y_train, cmap=\"Blues\")\n",
    "plt.show()"
   ]
  },
  {
   "cell_type": "code",
   "execution_count": 16,
   "metadata": {},
   "outputs": [
    {
     "name": "stdout",
     "output_type": "stream",
     "text": [
      "              precision    recall  f1-score   support\n",
      "\n",
      "           E       0.38      0.43      0.40        77\n",
      "           N       0.26      0.29      0.27        52\n",
      "          NE       0.26      0.17      0.20        36\n",
      "          NW       0.42      0.24      0.30        59\n",
      "           S       0.28      0.33      0.30        55\n",
      "          SE       0.47      0.41      0.44        68\n",
      "          SW       0.10      0.14      0.12        22\n",
      "           W       0.43      0.56      0.48        54\n",
      "\n",
      "    accuracy                           0.35       423\n",
      "   macro avg       0.33      0.32      0.32       423\n",
      "weighted avg       0.36      0.35      0.34       423\n",
      "\n"
     ]
    }
   ],
   "source": [
    "from sklearn.metrics import classification_report\n",
    "print(classification_report(y_test, predictions,\n",
    "                            target_names=[\"E\", \"N\", \"NE\", \"NW\", \"S\", \"SE\", \"SW\", \"W\"]))"
   ]
  },
  {
   "cell_type": "code",
   "execution_count": 17,
   "metadata": {},
   "outputs": [
    {
     "name": "stdout",
     "output_type": "stream",
     "text": [
      "Model is saved.\n"
     ]
    }
   ],
   "source": [
    "joblib.dump(rf, 'cyclone_RF.smd')\n",
    "print(\"Model is saved.\")"
   ]
  },
  {
   "cell_type": "code",
   "execution_count": 18,
   "metadata": {},
   "outputs": [
    {
     "name": "stdout",
     "output_type": "stream",
     "text": [
      "Model is saved.\n"
     ]
    }
   ],
   "source": [
    "joblib.dump(rf, '../cyclone_RF.smd')\n",
    "print(\"Model is saved.\")"
   ]
  },
  {
   "cell_type": "code",
   "execution_count": null,
   "metadata": {},
   "outputs": [],
   "source": []
  }
 ],
 "metadata": {
  "kernelspec": {
   "display_name": "Python [conda env:PythonData]",
   "language": "python",
   "name": "conda-env-PythonData-py"
  },
  "language_info": {
   "codemirror_mode": {
    "name": "ipython",
    "version": 3
   },
   "file_extension": ".py",
   "mimetype": "text/x-python",
   "name": "python",
   "nbconvert_exporter": "python",
   "pygments_lexer": "ipython3",
   "version": "3.6.10"
  }
 },
 "nbformat": 4,
 "nbformat_minor": 4
}
