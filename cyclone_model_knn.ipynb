{
 "cells": [
  {
   "cell_type": "code",
   "execution_count": 1,
   "metadata": {},
   "outputs": [],
   "source": [
    "from sklearn.model_selection import train_test_split\n",
    "from sklearn.preprocessing import MinMaxScaler\n",
    "from sklearn.preprocessing import StandardScaler\n",
    "from sklearn.svm import SVC\n",
    "from sklearn.model_selection import GridSearchCV\n",
    "from sklearn.metrics import accuracy_score\n",
    "import joblib\n",
    "import numpy as np\n",
    "import pandas as pd\n",
    "import matplotlib.pyplot as plt"
   ]
  },
  {
   "cell_type": "code",
   "execution_count": 4,
   "metadata": {},
   "outputs": [
    {
     "name": "stdout",
     "output_type": "stream",
     "text": [
      "(1692, 8) (1692,)\n"
     ]
    }
   ],
   "source": [
    "    # Read data into DataFrame from CSV file\n",
    "    # cyclone_df = pd.read_csv(\"Cyclone_ML.csv\")\n",
    "    cyclone_df = pd.read_csv(\"data/Cyclone_ML.csv\")\n",
    "\n",
    "    # Select features for machine learning and assign to X\n",
    "    selected_features = cyclone_df[[\"SURFACE_CODE\",\t\"CYC_TYPE\", \"LAT\", \"LON\", \"CENTRAL_PRES\", \"MAX_WIND_SPD\", \"CENTRAL_INDEX (CI)\", \"WAVE_HEIGHT\"]]\n",
    "    # selected_features = cyclone_df[[\"CYC_TYPE\", \"LAT\", \"LON\", \"CENTRAL_PRES\", \"MAX_WIND_SPD\", \"CENTRAL_INDEX (CI)\", \"WAVE_HEIGHT\"]]\n",
    "    X = selected_features\n",
    "\n",
    "    # Set y to compass direction of cyclone based on wind direction degree\n",
    "    y = cyclone_df[\"WIND_COMPASS\"]\n",
    "    # y = cyclone_df[\"MAX_REP_WIND_DIR\"]\n",
    " \n",
    "    print(X.shape, y.shape)"
   ]
  },
  {
   "cell_type": "code",
   "execution_count": 7,
   "metadata": {},
   "outputs": [
    {
     "data": {
      "text/html": [
       "<div>\n",
       "<style scoped>\n",
       "    .dataframe tbody tr th:only-of-type {\n",
       "        vertical-align: middle;\n",
       "    }\n",
       "\n",
       "    .dataframe tbody tr th {\n",
       "        vertical-align: top;\n",
       "    }\n",
       "\n",
       "    .dataframe thead th {\n",
       "        text-align: right;\n",
       "    }\n",
       "</style>\n",
       "<table border=\"1\" class=\"dataframe\">\n",
       "  <thead>\n",
       "    <tr style=\"text-align: right;\">\n",
       "      <th></th>\n",
       "      <th>SURFACE_CODE</th>\n",
       "      <th>CYC_TYPE</th>\n",
       "      <th>LAT</th>\n",
       "      <th>LON</th>\n",
       "      <th>CENTRAL_PRES</th>\n",
       "      <th>MAX_WIND_SPD</th>\n",
       "      <th>CENTRAL_INDEX (CI)</th>\n",
       "      <th>WAVE_HEIGHT</th>\n",
       "    </tr>\n",
       "  </thead>\n",
       "  <tbody>\n",
       "    <tr>\n",
       "      <th>0</th>\n",
       "      <td>3.0</td>\n",
       "      <td>40.0</td>\n",
       "      <td>-19.00</td>\n",
       "      <td>146.40</td>\n",
       "      <td>952.0</td>\n",
       "      <td>46.3</td>\n",
       "      <td>5.051994</td>\n",
       "      <td>11.079868</td>\n",
       "    </tr>\n",
       "    <tr>\n",
       "      <th>1</th>\n",
       "      <td>1.0</td>\n",
       "      <td>20.0</td>\n",
       "      <td>-11.00</td>\n",
       "      <td>92.60</td>\n",
       "      <td>1001.0</td>\n",
       "      <td>12.9</td>\n",
       "      <td>2.064005</td>\n",
       "      <td>3.337484</td>\n",
       "    </tr>\n",
       "    <tr>\n",
       "      <th>2</th>\n",
       "      <td>1.0</td>\n",
       "      <td>20.0</td>\n",
       "      <td>-11.10</td>\n",
       "      <td>93.10</td>\n",
       "      <td>1002.0</td>\n",
       "      <td>12.9</td>\n",
       "      <td>1.950454</td>\n",
       "      <td>3.093691</td>\n",
       "    </tr>\n",
       "    <tr>\n",
       "      <th>3</th>\n",
       "      <td>1.0</td>\n",
       "      <td>20.0</td>\n",
       "      <td>-11.10</td>\n",
       "      <td>94.20</td>\n",
       "      <td>1003.0</td>\n",
       "      <td>12.9</td>\n",
       "      <td>1.829259</td>\n",
       "      <td>2.838769</td>\n",
       "    </tr>\n",
       "    <tr>\n",
       "      <th>4</th>\n",
       "      <td>1.0</td>\n",
       "      <td>20.0</td>\n",
       "      <td>-11.10</td>\n",
       "      <td>94.60</td>\n",
       "      <td>1000.0</td>\n",
       "      <td>12.9</td>\n",
       "      <td>2.171169</td>\n",
       "      <td>3.571799</td>\n",
       "    </tr>\n",
       "    <tr>\n",
       "      <th>...</th>\n",
       "      <td>...</td>\n",
       "      <td>...</td>\n",
       "      <td>...</td>\n",
       "      <td>...</td>\n",
       "      <td>...</td>\n",
       "      <td>...</td>\n",
       "      <td>...</td>\n",
       "      <td>...</td>\n",
       "    </tr>\n",
       "    <tr>\n",
       "      <th>1687</th>\n",
       "      <td>2.0</td>\n",
       "      <td>30.0</td>\n",
       "      <td>-14.30</td>\n",
       "      <td>126.40</td>\n",
       "      <td>986.0</td>\n",
       "      <td>20.6</td>\n",
       "      <td>3.306407</td>\n",
       "      <td>6.276868</td>\n",
       "    </tr>\n",
       "    <tr>\n",
       "      <th>1688</th>\n",
       "      <td>4.0</td>\n",
       "      <td>21.0</td>\n",
       "      <td>-12.73</td>\n",
       "      <td>130.61</td>\n",
       "      <td>999.0</td>\n",
       "      <td>20.6</td>\n",
       "      <td>2.272897</td>\n",
       "      <td>3.797903</td>\n",
       "    </tr>\n",
       "    <tr>\n",
       "      <th>1689</th>\n",
       "      <td>2.0</td>\n",
       "      <td>30.0</td>\n",
       "      <td>-12.54</td>\n",
       "      <td>130.72</td>\n",
       "      <td>993.0</td>\n",
       "      <td>18.0</td>\n",
       "      <td>2.801605</td>\n",
       "      <td>5.026852</td>\n",
       "    </tr>\n",
       "    <tr>\n",
       "      <th>1690</th>\n",
       "      <td>2.0</td>\n",
       "      <td>30.0</td>\n",
       "      <td>-12.41</td>\n",
       "      <td>130.99</td>\n",
       "      <td>995.0</td>\n",
       "      <td>18.0</td>\n",
       "      <td>2.638106</td>\n",
       "      <td>4.637562</td>\n",
       "    </tr>\n",
       "    <tr>\n",
       "      <th>1691</th>\n",
       "      <td>2.0</td>\n",
       "      <td>30.0</td>\n",
       "      <td>-12.54</td>\n",
       "      <td>130.98</td>\n",
       "      <td>994.0</td>\n",
       "      <td>20.6</td>\n",
       "      <td>2.721184</td>\n",
       "      <td>4.834374</td>\n",
       "    </tr>\n",
       "  </tbody>\n",
       "</table>\n",
       "<p>1692 rows × 8 columns</p>\n",
       "</div>"
      ],
      "text/plain": [
       "      SURFACE_CODE  CYC_TYPE    LAT     LON  CENTRAL_PRES  MAX_WIND_SPD  \\\n",
       "0              3.0      40.0 -19.00  146.40         952.0          46.3   \n",
       "1              1.0      20.0 -11.00   92.60        1001.0          12.9   \n",
       "2              1.0      20.0 -11.10   93.10        1002.0          12.9   \n",
       "3              1.0      20.0 -11.10   94.20        1003.0          12.9   \n",
       "4              1.0      20.0 -11.10   94.60        1000.0          12.9   \n",
       "...            ...       ...    ...     ...           ...           ...   \n",
       "1687           2.0      30.0 -14.30  126.40         986.0          20.6   \n",
       "1688           4.0      21.0 -12.73  130.61         999.0          20.6   \n",
       "1689           2.0      30.0 -12.54  130.72         993.0          18.0   \n",
       "1690           2.0      30.0 -12.41  130.99         995.0          18.0   \n",
       "1691           2.0      30.0 -12.54  130.98         994.0          20.6   \n",
       "\n",
       "      CENTRAL_INDEX (CI)  WAVE_HEIGHT  \n",
       "0               5.051994    11.079868  \n",
       "1               2.064005     3.337484  \n",
       "2               1.950454     3.093691  \n",
       "3               1.829259     2.838769  \n",
       "4               2.171169     3.571799  \n",
       "...                  ...          ...  \n",
       "1687            3.306407     6.276868  \n",
       "1688            2.272897     3.797903  \n",
       "1689            2.801605     5.026852  \n",
       "1690            2.638106     4.637562  \n",
       "1691            2.721184     4.834374  \n",
       "\n",
       "[1692 rows x 8 columns]"
      ]
     },
     "execution_count": 7,
     "metadata": {},
     "output_type": "execute_result"
    }
   ],
   "source": [
    "X"
   ]
  },
  {
   "cell_type": "code",
   "execution_count": 5,
   "metadata": {},
   "outputs": [
    {
     "data": {
      "text/plain": [
       "0       SE\n",
       "1        E\n",
       "2        E\n",
       "3        S\n",
       "4       SW\n",
       "        ..\n",
       "1687     W\n",
       "1688     N\n",
       "1689    SW\n",
       "1690    SW\n",
       "1691    SW\n",
       "Name: WIND_COMPASS, Length: 1692, dtype: object"
      ]
     },
     "execution_count": 5,
     "metadata": {},
     "output_type": "execute_result"
    }
   ],
   "source": [
    "y"
   ]
  },
  {
   "cell_type": "code",
   "execution_count": 8,
   "metadata": {},
   "outputs": [],
   "source": [
    "# train test split\n",
    "X_train, X_test, y_train, y_test = train_test_split(X, y, random_state=42)"
   ]
  },
  {
   "cell_type": "code",
   "execution_count": 9,
   "metadata": {},
   "outputs": [],
   "source": [
    "X_scaler = StandardScaler().fit(X_train)\n",
    "X_train_scaled = X_scaler.transform(X_train)\n",
    "X_test_scaled = X_scaler.transform(X_test)"
   ]
  },
  {
   "cell_type": "code",
   "execution_count": 10,
   "metadata": {},
   "outputs": [
    {
     "name": "stdout",
     "output_type": "stream",
     "text": [
      "k: 1, Train/Test Score: 0.998/0.307\n",
      "k: 3, Train/Test Score: 0.550/0.293\n",
      "k: 5, Train/Test Score: 0.495/0.279\n",
      "k: 7, Train/Test Score: 0.438/0.300\n",
      "k: 9, Train/Test Score: 0.396/0.279\n",
      "k: 11, Train/Test Score: 0.368/0.277\n",
      "k: 13, Train/Test Score: 0.345/0.267\n",
      "k: 15, Train/Test Score: 0.333/0.262\n"
     ]
    },
    {
     "data": {
      "image/png": "[encoded data removed]",
      "text/plain": [
       "<Figure size 432x288 with 1 Axes>"
      ]
     },
     "metadata": {
      "needs_background": "light"
     },
     "output_type": "display_data"
    }
   ],
   "source": [
    "from sklearn.neighbors import KNeighborsClassifier\n",
    "# Loop through different k values to see which has the highest accuracy\n",
    "# Note: We only use odd numbers because we don't want any ties\n",
    "train_scores = []\n",
    "test_scores = []\n",
    "for k in range(1, 16, 2):\n",
    "    knn = KNeighborsClassifier(n_neighbors=k)\n",
    "    knn.fit(X_train_scaled, y_train)\n",
    "    train_score = knn.score(X_train_scaled, y_train)\n",
    "    test_score = knn.score(X_test_scaled, y_test)\n",
    "    train_scores.append(train_score)\n",
    "    test_scores.append(test_score)\n",
    "    print(f\"k: {k}, Train/Test Score: {train_score:.3f}/{test_score:.3f}\")\n",
    "    \n",
    "    \n",
    "plt.plot(range(1, 16, 2), train_scores, marker='o')\n",
    "plt.plot(range(1, 16, 2), test_scores, marker=\"x\")\n",
    "plt.xlabel(\"k neighbors\")\n",
    "plt.ylabel(\"Testing accuracy Score\")\n",
    "plt.legend([\"Training Data\", \"Testing Data\"], loc=\"best\")\n",
    "plt.show()"
   ]
  },
  {
   "cell_type": "code",
   "execution_count": 11,
   "metadata": {},
   "outputs": [
    {
     "name": "stdout",
     "output_type": "stream",
     "text": [
      "k=11 Train Acc: 0.368\n",
      "k=11 Test Acc: 0.277\n"
     ]
    }
   ],
   "source": [
    "# Note that k: 13 seems to be the best choice for this dataset\n",
    "knn = KNeighborsClassifier(n_neighbors=11)\n",
    "knn.fit(X_train_scaled, y_train)\n",
    "print('k=11 Train Acc: %.3f' % knn.score(X_train_scaled, y_train))\n",
    "print('k=11 Test Acc: %.3f' % knn.score(X_test_scaled, y_test))"
   ]
  },
  {
   "cell_type": "code",
   "execution_count": null,
   "metadata": {},
   "outputs": [],
   "source": []
  }
 ],
 "metadata": {
  "kernelspec": {
   "display_name": "Python [conda env:PythonData]",
   "language": "python",
   "name": "conda-env-PythonData-py"
  },
  "language_info": {
   "codemirror_mode": {
    "name": "ipython",
    "version": 3
   },
   "file_extension": ".py",
   "mimetype": "text/x-python",
   "name": "python",
   "nbconvert_exporter": "python",
   "pygments_lexer": "ipython3",
   "version": "3.6.10"
  }
 },
 "nbformat": 4,
 "nbformat_minor": 4
}
