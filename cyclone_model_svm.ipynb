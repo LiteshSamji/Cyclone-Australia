{
 "cells": [
  {
   "cell_type": "code",
   "execution_count": 1,
   "metadata": {},
   "outputs": [],
   "source": [
    "from sklearn.model_selection import train_test_split\n",
    "from sklearn.preprocessing import MinMaxScaler\n",
    "from sklearn.preprocessing import StandardScaler\n",
    "from sklearn.svm import SVC\n",
    "from sklearn.model_selection import GridSearchCV\n",
    "from sklearn.metrics import accuracy_score\n",
    "import joblib\n",
    "import numpy as np\n",
    "import pandas as pd\n",
    "import matplotlib.pyplot as plt"
   ]
  },
  {
   "cell_type": "code",
   "execution_count": 4,
   "metadata": {},
   "outputs": [
    {
     "name": "stdout",
     "output_type": "stream",
     "text": [
      "(1692, 8) (1692,)\n"
     ]
    }
   ],
   "source": [
    "    # Read data into DataFrame from CSV file\n",
    "    # cyclone_df = pd.read_csv(\"Cyclone_ML.csv\")\n",
    "    cyclone_df = pd.read_csv(\"data/Cyclone_ML.csv\")\n",
    "\n",
    "    # Select features for machine learning and assign to X\n",
    "    selected_features = cyclone_df[[\"SURFACE_CODE\",\t\"CYC_TYPE\", \"LAT\", \"LON\", \"CENTRAL_PRES\", \"MAX_WIND_SPD\", \"CENTRAL_INDEX (CI)\", \"WAVE_HEIGHT\"]]\n",
    "    X = selected_features\n",
    "\n",
    "    # Set y to compass direction of cyclone based on wind direction degree\n",
    "    y = cyclone_df[\"WIND_COMPASS\"]\n",
    "    # y = cyclone_df[\"MAX_REP_WIND_DIR\"]\n",
    " \n",
    "\n",
    "    print(X.shape, y.shape)"
   ]
  },
  {
   "cell_type": "code",
   "execution_count": 4,
   "metadata": {},
   "outputs": [
    {
     "data": {
      "text/html": [
       "<div>\n",
       "<style scoped>\n",
       "    .dataframe tbody tr th:only-of-type {\n",
       "        vertical-align: middle;\n",
       "    }\n",
       "\n",
       "    .dataframe tbody tr th {\n",
       "        vertical-align: top;\n",
       "    }\n",
       "\n",
       "    .dataframe thead th {\n",
       "        text-align: right;\n",
       "    }\n",
       "</style>\n",
       "<table border=\"1\" class=\"dataframe\">\n",
       "  <thead>\n",
       "    <tr style=\"text-align: right;\">\n",
       "      <th></th>\n",
       "      <th>NAME</th>\n",
       "      <th>TM</th>\n",
       "      <th>TYPE</th>\n",
       "      <th>DATA_SRC</th>\n",
       "      <th>SURFACE_CODE</th>\n",
       "      <th>CYC_TYPE</th>\n",
       "      <th>LAT</th>\n",
       "      <th>LON</th>\n",
       "      <th>CENTRAL_PRES</th>\n",
       "      <th>MAX_WIND_SPD</th>\n",
       "      <th>MAX_REP_WIND_DIR</th>\n",
       "      <th>WIND_COMPASS</th>\n",
       "      <th>CENTRAL_INDEX (CI)</th>\n",
       "      <th>WAVE_HEIGHT</th>\n",
       "    </tr>\n",
       "  </thead>\n",
       "  <tbody>\n",
       "    <tr>\n",
       "      <th>0</th>\n",
       "      <td>Althea</td>\n",
       "      <td>1971-12-23 23:00:00</td>\n",
       "      <td>T</td>\n",
       "      <td>4.0</td>\n",
       "      <td>3.0</td>\n",
       "      <td>40.0</td>\n",
       "      <td>-19.00</td>\n",
       "      <td>146.40</td>\n",
       "      <td>952.0</td>\n",
       "      <td>46.3</td>\n",
       "      <td>120.0</td>\n",
       "      <td>SE</td>\n",
       "      <td>5.051994</td>\n",
       "      <td>11.079868</td>\n",
       "    </tr>\n",
       "    <tr>\n",
       "      <th>1</th>\n",
       "      <td>Annie</td>\n",
       "      <td>1973-11-22 06:00:00</td>\n",
       "      <td>T</td>\n",
       "      <td>2.0</td>\n",
       "      <td>1.0</td>\n",
       "      <td>20.0</td>\n",
       "      <td>-11.00</td>\n",
       "      <td>92.60</td>\n",
       "      <td>1001.0</td>\n",
       "      <td>12.9</td>\n",
       "      <td>100.0</td>\n",
       "      <td>E</td>\n",
       "      <td>2.064005</td>\n",
       "      <td>3.337484</td>\n",
       "    </tr>\n",
       "    <tr>\n",
       "      <th>2</th>\n",
       "      <td>Annie</td>\n",
       "      <td>1973-11-22 12:00:00</td>\n",
       "      <td>T</td>\n",
       "      <td>2.0</td>\n",
       "      <td>1.0</td>\n",
       "      <td>20.0</td>\n",
       "      <td>-11.10</td>\n",
       "      <td>93.10</td>\n",
       "      <td>1002.0</td>\n",
       "      <td>12.9</td>\n",
       "      <td>110.0</td>\n",
       "      <td>E</td>\n",
       "      <td>1.950454</td>\n",
       "      <td>3.093691</td>\n",
       "    </tr>\n",
       "    <tr>\n",
       "      <th>3</th>\n",
       "      <td>Annie</td>\n",
       "      <td>1973-11-23 00:01:00</td>\n",
       "      <td>T</td>\n",
       "      <td>2.0</td>\n",
       "      <td>1.0</td>\n",
       "      <td>20.0</td>\n",
       "      <td>-11.10</td>\n",
       "      <td>94.20</td>\n",
       "      <td>1003.0</td>\n",
       "      <td>12.9</td>\n",
       "      <td>160.0</td>\n",
       "      <td>S</td>\n",
       "      <td>1.829259</td>\n",
       "      <td>2.838769</td>\n",
       "    </tr>\n",
       "    <tr>\n",
       "      <th>4</th>\n",
       "      <td>Annie</td>\n",
       "      <td>1973-11-23 06:00:00</td>\n",
       "      <td>T</td>\n",
       "      <td>2.0</td>\n",
       "      <td>1.0</td>\n",
       "      <td>20.0</td>\n",
       "      <td>-11.10</td>\n",
       "      <td>94.60</td>\n",
       "      <td>1000.0</td>\n",
       "      <td>12.9</td>\n",
       "      <td>210.0</td>\n",
       "      <td>SW</td>\n",
       "      <td>2.171169</td>\n",
       "      <td>3.571799</td>\n",
       "    </tr>\n",
       "    <tr>\n",
       "      <th>...</th>\n",
       "      <td>...</td>\n",
       "      <td>...</td>\n",
       "      <td>...</td>\n",
       "      <td>...</td>\n",
       "      <td>...</td>\n",
       "      <td>...</td>\n",
       "      <td>...</td>\n",
       "      <td>...</td>\n",
       "      <td>...</td>\n",
       "      <td>...</td>\n",
       "      <td>...</td>\n",
       "      <td>...</td>\n",
       "      <td>...</td>\n",
       "      <td>...</td>\n",
       "    </tr>\n",
       "    <tr>\n",
       "      <th>1687</th>\n",
       "      <td>George</td>\n",
       "      <td>2007-03-04 18:00:00</td>\n",
       "      <td>T</td>\n",
       "      <td>3.0</td>\n",
       "      <td>2.0</td>\n",
       "      <td>30.0</td>\n",
       "      <td>-14.30</td>\n",
       "      <td>126.40</td>\n",
       "      <td>986.0</td>\n",
       "      <td>20.6</td>\n",
       "      <td>270.0</td>\n",
       "      <td>W</td>\n",
       "      <td>3.306407</td>\n",
       "      <td>6.276868</td>\n",
       "    </tr>\n",
       "    <tr>\n",
       "      <th>1688</th>\n",
       "      <td>Carlos</td>\n",
       "      <td>2011-02-15 12:00:00</td>\n",
       "      <td>T</td>\n",
       "      <td>3.0</td>\n",
       "      <td>4.0</td>\n",
       "      <td>21.0</td>\n",
       "      <td>-12.73</td>\n",
       "      <td>130.61</td>\n",
       "      <td>999.0</td>\n",
       "      <td>20.6</td>\n",
       "      <td>350.0</td>\n",
       "      <td>N</td>\n",
       "      <td>2.272897</td>\n",
       "      <td>3.797903</td>\n",
       "    </tr>\n",
       "    <tr>\n",
       "      <th>1689</th>\n",
       "      <td>Carlos</td>\n",
       "      <td>2011-02-15 21:00:00</td>\n",
       "      <td>T</td>\n",
       "      <td>3.0</td>\n",
       "      <td>2.0</td>\n",
       "      <td>30.0</td>\n",
       "      <td>-12.54</td>\n",
       "      <td>130.72</td>\n",
       "      <td>993.0</td>\n",
       "      <td>18.0</td>\n",
       "      <td>210.0</td>\n",
       "      <td>SW</td>\n",
       "      <td>2.801605</td>\n",
       "      <td>5.026852</td>\n",
       "    </tr>\n",
       "    <tr>\n",
       "      <th>1690</th>\n",
       "      <td>Carlos</td>\n",
       "      <td>2011-02-16 00:00:00</td>\n",
       "      <td>T</td>\n",
       "      <td>3.0</td>\n",
       "      <td>2.0</td>\n",
       "      <td>30.0</td>\n",
       "      <td>-12.41</td>\n",
       "      <td>130.99</td>\n",
       "      <td>995.0</td>\n",
       "      <td>18.0</td>\n",
       "      <td>210.0</td>\n",
       "      <td>SW</td>\n",
       "      <td>2.638106</td>\n",
       "      <td>4.637562</td>\n",
       "    </tr>\n",
       "    <tr>\n",
       "      <th>1691</th>\n",
       "      <td>Carlos</td>\n",
       "      <td>2011-02-16 09:00:00</td>\n",
       "      <td>T</td>\n",
       "      <td>3.0</td>\n",
       "      <td>2.0</td>\n",
       "      <td>30.0</td>\n",
       "      <td>-12.54</td>\n",
       "      <td>130.98</td>\n",
       "      <td>994.0</td>\n",
       "      <td>20.6</td>\n",
       "      <td>220.0</td>\n",
       "      <td>SW</td>\n",
       "      <td>2.721184</td>\n",
       "      <td>4.834374</td>\n",
       "    </tr>\n",
       "  </tbody>\n",
       "</table>\n",
       "<p>1692 rows × 14 columns</p>\n",
       "</div>"
      ],
      "text/plain": [
       "        NAME                   TM TYPE  DATA_SRC  SURFACE_CODE  CYC_TYPE  \\\n",
       "0     Althea  1971-12-23 23:00:00    T       4.0           3.0      40.0   \n",
       "1      Annie  1973-11-22 06:00:00    T       2.0           1.0      20.0   \n",
       "2      Annie  1973-11-22 12:00:00    T       2.0           1.0      20.0   \n",
       "3      Annie  1973-11-23 00:01:00    T       2.0           1.0      20.0   \n",
       "4      Annie  1973-11-23 06:00:00    T       2.0           1.0      20.0   \n",
       "...      ...                  ...  ...       ...           ...       ...   \n",
       "1687  George  2007-03-04 18:00:00    T       3.0           2.0      30.0   \n",
       "1688  Carlos  2011-02-15 12:00:00    T       3.0           4.0      21.0   \n",
       "1689  Carlos  2011-02-15 21:00:00    T       3.0           2.0      30.0   \n",
       "1690  Carlos  2011-02-16 00:00:00    T       3.0           2.0      30.0   \n",
       "1691  Carlos  2011-02-16 09:00:00    T       3.0           2.0      30.0   \n",
       "\n",
       "        LAT     LON  CENTRAL_PRES  MAX_WIND_SPD  MAX_REP_WIND_DIR  \\\n",
       "0    -19.00  146.40         952.0          46.3             120.0   \n",
       "1    -11.00   92.60        1001.0          12.9             100.0   \n",
       "2    -11.10   93.10        1002.0          12.9             110.0   \n",
       "3    -11.10   94.20        1003.0          12.9             160.0   \n",
       "4    -11.10   94.60        1000.0          12.9             210.0   \n",
       "...     ...     ...           ...           ...               ...   \n",
       "1687 -14.30  126.40         986.0          20.6             270.0   \n",
       "1688 -12.73  130.61         999.0          20.6             350.0   \n",
       "1689 -12.54  130.72         993.0          18.0             210.0   \n",
       "1690 -12.41  130.99         995.0          18.0             210.0   \n",
       "1691 -12.54  130.98         994.0          20.6             220.0   \n",
       "\n",
       "     WIND_COMPASS  CENTRAL_INDEX (CI)  WAVE_HEIGHT  \n",
       "0              SE            5.051994    11.079868  \n",
       "1               E            2.064005     3.337484  \n",
       "2               E            1.950454     3.093691  \n",
       "3               S            1.829259     2.838769  \n",
       "4              SW            2.171169     3.571799  \n",
       "...           ...                 ...          ...  \n",
       "1687            W            3.306407     6.276868  \n",
       "1688            N            2.272897     3.797903  \n",
       "1689           SW            2.801605     5.026852  \n",
       "1690           SW            2.638106     4.637562  \n",
       "1691           SW            2.721184     4.834374  \n",
       "\n",
       "[1692 rows x 14 columns]"
      ]
     },
     "execution_count": 4,
     "metadata": {},
     "output_type": "execute_result"
    }
   ],
   "source": [
    "cyclone_df"
   ]
  },
  {
   "cell_type": "code",
   "execution_count": 5,
   "metadata": {},
   "outputs": [
    {
     "data": {
      "text/html": [
       "<div>\n",
       "<style scoped>\n",
       "    .dataframe tbody tr th:only-of-type {\n",
       "        vertical-align: middle;\n",
       "    }\n",
       "\n",
       "    .dataframe tbody tr th {\n",
       "        vertical-align: top;\n",
       "    }\n",
       "\n",
       "    .dataframe thead th {\n",
       "        text-align: right;\n",
       "    }\n",
       "</style>\n",
       "<table border=\"1\" class=\"dataframe\">\n",
       "  <thead>\n",
       "    <tr style=\"text-align: right;\">\n",
       "      <th></th>\n",
       "      <th>SURFACE_CODE</th>\n",
       "      <th>CYC_TYPE</th>\n",
       "      <th>LAT</th>\n",
       "      <th>LON</th>\n",
       "      <th>CENTRAL_PRES</th>\n",
       "      <th>MAX_WIND_SPD</th>\n",
       "      <th>CENTRAL_INDEX (CI)</th>\n",
       "      <th>WAVE_HEIGHT</th>\n",
       "    </tr>\n",
       "  </thead>\n",
       "  <tbody>\n",
       "    <tr>\n",
       "      <th>0</th>\n",
       "      <td>3.0</td>\n",
       "      <td>40.0</td>\n",
       "      <td>-19.00</td>\n",
       "      <td>146.40</td>\n",
       "      <td>952.0</td>\n",
       "      <td>46.3</td>\n",
       "      <td>5.051994</td>\n",
       "      <td>11.079868</td>\n",
       "    </tr>\n",
       "    <tr>\n",
       "      <th>1</th>\n",
       "      <td>1.0</td>\n",
       "      <td>20.0</td>\n",
       "      <td>-11.00</td>\n",
       "      <td>92.60</td>\n",
       "      <td>1001.0</td>\n",
       "      <td>12.9</td>\n",
       "      <td>2.064005</td>\n",
       "      <td>3.337484</td>\n",
       "    </tr>\n",
       "    <tr>\n",
       "      <th>2</th>\n",
       "      <td>1.0</td>\n",
       "      <td>20.0</td>\n",
       "      <td>-11.10</td>\n",
       "      <td>93.10</td>\n",
       "      <td>1002.0</td>\n",
       "      <td>12.9</td>\n",
       "      <td>1.950454</td>\n",
       "      <td>3.093691</td>\n",
       "    </tr>\n",
       "    <tr>\n",
       "      <th>3</th>\n",
       "      <td>1.0</td>\n",
       "      <td>20.0</td>\n",
       "      <td>-11.10</td>\n",
       "      <td>94.20</td>\n",
       "      <td>1003.0</td>\n",
       "      <td>12.9</td>\n",
       "      <td>1.829259</td>\n",
       "      <td>2.838769</td>\n",
       "    </tr>\n",
       "    <tr>\n",
       "      <th>4</th>\n",
       "      <td>1.0</td>\n",
       "      <td>20.0</td>\n",
       "      <td>-11.10</td>\n",
       "      <td>94.60</td>\n",
       "      <td>1000.0</td>\n",
       "      <td>12.9</td>\n",
       "      <td>2.171169</td>\n",
       "      <td>3.571799</td>\n",
       "    </tr>\n",
       "    <tr>\n",
       "      <th>...</th>\n",
       "      <td>...</td>\n",
       "      <td>...</td>\n",
       "      <td>...</td>\n",
       "      <td>...</td>\n",
       "      <td>...</td>\n",
       "      <td>...</td>\n",
       "      <td>...</td>\n",
       "      <td>...</td>\n",
       "    </tr>\n",
       "    <tr>\n",
       "      <th>1687</th>\n",
       "      <td>2.0</td>\n",
       "      <td>30.0</td>\n",
       "      <td>-14.30</td>\n",
       "      <td>126.40</td>\n",
       "      <td>986.0</td>\n",
       "      <td>20.6</td>\n",
       "      <td>3.306407</td>\n",
       "      <td>6.276868</td>\n",
       "    </tr>\n",
       "    <tr>\n",
       "      <th>1688</th>\n",
       "      <td>4.0</td>\n",
       "      <td>21.0</td>\n",
       "      <td>-12.73</td>\n",
       "      <td>130.61</td>\n",
       "      <td>999.0</td>\n",
       "      <td>20.6</td>\n",
       "      <td>2.272897</td>\n",
       "      <td>3.797903</td>\n",
       "    </tr>\n",
       "    <tr>\n",
       "      <th>1689</th>\n",
       "      <td>2.0</td>\n",
       "      <td>30.0</td>\n",
       "      <td>-12.54</td>\n",
       "      <td>130.72</td>\n",
       "      <td>993.0</td>\n",
       "      <td>18.0</td>\n",
       "      <td>2.801605</td>\n",
       "      <td>5.026852</td>\n",
       "    </tr>\n",
       "    <tr>\n",
       "      <th>1690</th>\n",
       "      <td>2.0</td>\n",
       "      <td>30.0</td>\n",
       "      <td>-12.41</td>\n",
       "      <td>130.99</td>\n",
       "      <td>995.0</td>\n",
       "      <td>18.0</td>\n",
       "      <td>2.638106</td>\n",
       "      <td>4.637562</td>\n",
       "    </tr>\n",
       "    <tr>\n",
       "      <th>1691</th>\n",
       "      <td>2.0</td>\n",
       "      <td>30.0</td>\n",
       "      <td>-12.54</td>\n",
       "      <td>130.98</td>\n",
       "      <td>994.0</td>\n",
       "      <td>20.6</td>\n",
       "      <td>2.721184</td>\n",
       "      <td>4.834374</td>\n",
       "    </tr>\n",
       "  </tbody>\n",
       "</table>\n",
       "<p>1692 rows × 8 columns</p>\n",
       "</div>"
      ],
      "text/plain": [
       "      SURFACE_CODE  CYC_TYPE    LAT     LON  CENTRAL_PRES  MAX_WIND_SPD  \\\n",
       "0              3.0      40.0 -19.00  146.40         952.0          46.3   \n",
       "1              1.0      20.0 -11.00   92.60        1001.0          12.9   \n",
       "2              1.0      20.0 -11.10   93.10        1002.0          12.9   \n",
       "3              1.0      20.0 -11.10   94.20        1003.0          12.9   \n",
       "4              1.0      20.0 -11.10   94.60        1000.0          12.9   \n",
       "...            ...       ...    ...     ...           ...           ...   \n",
       "1687           2.0      30.0 -14.30  126.40         986.0          20.6   \n",
       "1688           4.0      21.0 -12.73  130.61         999.0          20.6   \n",
       "1689           2.0      30.0 -12.54  130.72         993.0          18.0   \n",
       "1690           2.0      30.0 -12.41  130.99         995.0          18.0   \n",
       "1691           2.0      30.0 -12.54  130.98         994.0          20.6   \n",
       "\n",
       "      CENTRAL_INDEX (CI)  WAVE_HEIGHT  \n",
       "0               5.051994    11.079868  \n",
       "1               2.064005     3.337484  \n",
       "2               1.950454     3.093691  \n",
       "3               1.829259     2.838769  \n",
       "4               2.171169     3.571799  \n",
       "...                  ...          ...  \n",
       "1687            3.306407     6.276868  \n",
       "1688            2.272897     3.797903  \n",
       "1689            2.801605     5.026852  \n",
       "1690            2.638106     4.637562  \n",
       "1691            2.721184     4.834374  \n",
       "\n",
       "[1692 rows x 8 columns]"
      ]
     },
     "execution_count": 5,
     "metadata": {},
     "output_type": "execute_result"
    }
   ],
   "source": [
    "X"
   ]
  },
  {
   "cell_type": "code",
   "execution_count": 8,
   "metadata": {},
   "outputs": [
    {
     "data": {
      "text/plain": [
       "0       SE\n",
       "1        E\n",
       "2        E\n",
       "3        S\n",
       "4       SW\n",
       "        ..\n",
       "1687     W\n",
       "1688     N\n",
       "1689    SW\n",
       "1690    SW\n",
       "1691    SW\n",
       "Name: WIND_COMPASS, Length: 1692, dtype: object"
      ]
     },
     "execution_count": 8,
     "metadata": {},
     "output_type": "execute_result"
    }
   ],
   "source": [
    "y"
   ]
  },
  {
   "cell_type": "code",
   "execution_count": 6,
   "metadata": {},
   "outputs": [],
   "source": [
    "# train test split\n",
    "X_train, X_test, y_train, y_test = train_test_split(X, y, random_state=42)"
   ]
  },
  {
   "cell_type": "code",
   "execution_count": 7,
   "metadata": {},
   "outputs": [],
   "source": [
    "X_scaler = StandardScaler().fit(X_train)\n",
    "X_train_scaled = X_scaler.transform(X_train)\n",
    "X_test_scaled = X_scaler.transform(X_test)"
   ]
  },
  {
   "cell_type": "code",
   "execution_count": 8,
   "metadata": {},
   "outputs": [
    {
     "data": {
      "text/plain": [
       "SVC(kernel='linear')"
      ]
     },
     "execution_count": 8,
     "metadata": {},
     "output_type": "execute_result"
    }
   ],
   "source": [
    "# Support vector machine linear classifier\n",
    "model = SVC(kernel='linear')\n",
    "\n",
    "# Fit the model to the training data and calculate the scores for the training and testing data\n",
    "model.fit(X_train_scaled, y_train)"
   ]
  },
  {
   "cell_type": "code",
   "execution_count": 9,
   "metadata": {},
   "outputs": [
    {
     "name": "stdout",
     "output_type": "stream",
     "text": [
      "Training Data Score: 0.22458628841607564\n",
      "Testing Data Score: 0.20567375886524822\n"
     ]
    }
   ],
   "source": [
    "training_score = model.score(X_train_scaled, y_train)\n",
    "testing_score = model.score(X_test_scaled, y_test)\n",
    "\n",
    "print(f\"Training Data Score: {training_score}\")\n",
    "print(f\"Testing Data Score: {testing_score}\")"
   ]
  },
  {
   "cell_type": "code",
   "execution_count": 10,
   "metadata": {},
   "outputs": [
    {
     "name": "stdout",
     "output_type": "stream",
     "text": [
      "Model accuracy on test set: 0.21\n"
     ]
    }
   ],
   "source": [
    "predictions = model.predict(X_test_scaled)\n",
    "acc = accuracy_score(y_test, predictions)\n",
    "print(f'Model accuracy on test set: {acc:.2f}')"
   ]
  },
  {
   "cell_type": "code",
   "execution_count": 11,
   "metadata": {},
   "outputs": [
    {
     "data": {
      "image/png": "[encoded data removed]",
      "text/plain": [
       "<Figure size 432x288 with 2 Axes>"
      ]
     },
     "metadata": {
      "needs_background": "light"
     },
     "output_type": "display_data"
    }
   ],
   "source": [
    "from sklearn.metrics import plot_confusion_matrix\n",
    "#Plot with Testing Data\"\n",
    "plot_confusion_matrix(model, X_test_scaled, y_test, cmap=\"Blues\")\n",
    "plt.show()"
   ]
  },
  {
   "cell_type": "code",
   "execution_count": 18,
   "metadata": {},
   "outputs": [
    {
     "data": {
      "image/png": "[encoded data removed]",
      "text/plain": [
       "<Figure size 432x288 with 2 Axes>"
      ]
     },
     "metadata": {
      "needs_background": "light"
     },
     "output_type": "display_data"
    }
   ],
   "source": [
    "\"Plot with Train data\"\n",
    "plot_confusion_matrix(model, X_train_scaled, y_train, cmap=\"Blues\")\n",
    "plt.show()"
   ]
  },
  {
   "cell_type": "code",
   "execution_count": 21,
   "metadata": {},
   "outputs": [
    {
     "data": {
      "text/plain": [
       "<Figure size 432x288 with 0 Axes>"
      ]
     },
     "metadata": {},
     "output_type": "display_data"
    }
   ],
   "source": [
    "plt.savefig('../static/images/clrep_train_svm.png')"
   ]
  },
  {
   "cell_type": "code",
   "execution_count": 22,
   "metadata": {},
   "outputs": [
    {
     "data": {
      "text/plain": [
       "<Figure size 432x288 with 0 Axes>"
      ]
     },
     "metadata": {},
     "output_type": "display_data"
    }
   ],
   "source": [
    "plt.savefig('books_read.png')"
   ]
  },
  {
   "cell_type": "code",
   "execution_count": 23,
   "metadata": {},
   "outputs": [
    {
     "name": "stdout",
     "output_type": "stream",
     "text": [
      "              precision    recall  f1-score   support\n",
      "\n",
      "           E       0.17      0.43      0.25        77\n",
      "           N       0.21      0.15      0.18        52\n",
      "          NE       0.00      0.00      0.00        36\n",
      "          NW       0.00      0.00      0.00        59\n",
      "           S       0.12      0.02      0.03        55\n",
      "          SE       0.28      0.40      0.33        68\n",
      "          SW       0.00      0.00      0.00        22\n",
      "           W       0.20      0.33      0.25        54\n",
      "\n",
      "    accuracy                           0.21       423\n",
      "   macro avg       0.12      0.17      0.13       423\n",
      "weighted avg       0.14      0.21      0.16       423\n",
      "\n"
     ]
    },
    {
     "name": "stderr",
     "output_type": "stream",
     "text": [
      "C:\\Users\\Lites\\anaconda3\\envs\\PythonData\\lib\\site-packages\\sklearn\\metrics\\_classification.py:1221: UndefinedMetricWarning: Precision and F-score are ill-defined and being set to 0.0 in labels with no predicted samples. Use `zero_division` parameter to control this behavior.\n",
      "  _warn_prf(average, modifier, msg_start, len(result))\n"
     ]
    }
   ],
   "source": [
    "from sklearn.metrics import classification_report\n",
    "print(classification_report(y_test, predictions,\n",
    "                            target_names=[\"E\", \"N\", \"NE\", \"NW\", \"S\", \"SE\", \"SW\", \"W\"]))"
   ]
  },
  {
   "cell_type": "code",
   "execution_count": 24,
   "metadata": {},
   "outputs": [
    {
     "name": "stdout",
     "output_type": "stream",
     "text": [
      "Model is saved.\n"
     ]
    }
   ],
   "source": [
    "joblib.dump(model, 'cyclone_SVM.smd')\n",
    "print(\"Model is saved.\")"
   ]
  },
  {
   "cell_type": "code",
   "execution_count": 25,
   "metadata": {},
   "outputs": [
    {
     "name": "stdout",
     "output_type": "stream",
     "text": [
      "Model is saved.\n"
     ]
    }
   ],
   "source": [
    "joblib.dump(model, '../cyclone_SVM.smd')\n",
    "print(\"Model is saved.\")"
   ]
  },
  {
   "cell_type": "code",
   "execution_count": null,
   "metadata": {},
   "outputs": [],
   "source": []
  }
 ],
 "metadata": {
  "kernelspec": {
   "display_name": "PythonData",
   "language": "python",
   "name": "pythondata"
  },
  "language_info": {
   "codemirror_mode": {
    "name": "ipython",
    "version": 3
   },
   "file_extension": ".py",
   "mimetype": "text/x-python",
   "name": "python",
   "nbconvert_exporter": "python",
   "pygments_lexer": "ipython3",
   "version": "3.6.10"
  }
 },
 "nbformat": 4,
 "nbformat_minor": 4
}
